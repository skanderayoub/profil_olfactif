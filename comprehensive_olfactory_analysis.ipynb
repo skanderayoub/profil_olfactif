{
 "cells": [
  {
   "cell_type": "code",
   "execution_count": 1,
   "metadata": {},
   "outputs": [
    {
     "ename": "",
     "evalue": "",
     "output_type": "error",
     "traceback": [
      "\u001b[1;31mFailed to start the Kernel. \n",
      "\u001b[1;31mzmq.error.ZMQError: Address in use (addr='tcp://127.0.0.1:9002'). \n",
      "\u001b[1;31mView Jupyter <a href='command:jupyter.viewOutput'>log</a> for further details."
     ]
    }
   ],
   "source": [
    "import pandas as pd\n",
    "import numpy as np\n",
    "import matplotlib.pyplot as plt\n",
    "import seaborn as sns\n",
    "from wordcloud import WordCloud\n",
    "import plotly.express as px\n",
    "import plotly.figure_factory as ff\n",
    "import unicodedata\n",
    "from collections import Counter\n",
    "from itertools import combinations\n",
    "import warnings\n",
    "warnings.filterwarnings('ignore')"
   ]
  },
  {
   "cell_type": "code",
   "execution_count": 12,
   "metadata": {},
   "outputs": [],
   "source": [
    "# 1. Load Data\n",
    "df = pd.read_csv('parfums.csv')\n",
    "\n",
    "# 2. Data Cleaning\n",
    "def clean_type(row):\n",
    "    type_value = str(row['type']).strip()\n",
    "    if type_value.endswith('-'):\n",
    "        type_value = type_value[:-1].strip()\n",
    "    if type_value.startswith('-'):\n",
    "        try:\n",
    "            year = int(type_value[1:].strip())\n",
    "            row['year'] = str(year)\n",
    "            type_value = 'Inconnu'\n",
    "        except ValueError:\n",
    "            type_value = 'Inconnu'\n",
    "    return type_value\n",
    "\n",
    "df['type'] = df.apply(clean_type, axis=1)\n",
    "\n",
    "def normalize_string(s):\n",
    "    if pd.isnull(s):\n",
    "        return ''\n",
    "    return ''.join(c for c in unicodedata.normalize('NFD', str(s).lower()) if unicodedata.category(c) != 'Mn').strip()\n",
    "\n",
    "for col in ['brand', 'type', 'gender', 'family', 'facettes', 'notes_tete', 'notes_coeur', 'notes_fond']:\n",
    "    df[col] = df[col].astype(str).apply(normalize_string)\n",
    "\n",
    "df.replace({'inconnu': np.nan, 'nan': np.nan}, inplace=True)"
   ]
  },
  {
   "cell_type": "code",
   "execution_count": null,
   "metadata": {},
   "outputs": [],
   "source": [
    "df.type.unique()"
   ]
  },
  {
   "cell_type": "markdown",
   "metadata": {},
   "source": [
    "# 3 Basic Exploration"
   ]
  },
  {
   "cell_type": "code",
   "execution_count": null,
   "metadata": {},
   "outputs": [],
   "source": [
    "df.head()"
   ]
  },
  {
   "cell_type": "code",
   "execution_count": null,
   "metadata": {},
   "outputs": [],
   "source": [
    "df.info()\n"
   ]
  },
  {
   "cell_type": "code",
   "execution_count": null,
   "metadata": {},
   "outputs": [],
   "source": [
    "df.describe(include='all')"
   ]
  },
  {
   "cell_type": "code",
   "execution_count": null,
   "metadata": {},
   "outputs": [],
   "source": [
    "print(f\"Total perfumes: {len(df)}\")\n",
    "print(f\"Unique brands: {df['brand'].nunique()}\")\n",
    "print(f\"Unique types: {df['type'].nunique()}\")\n",
    "print(f\"Unique genders: {df['gender'].nunique()}\")\n",
    "print(f\"Unique families: {df['family'].nunique()}\")\n",
    "print(f\"Year range: {df['year'].min()} - {df['year'].max()}\")\n",
    "print('\\nMissing values per column:')\n",
    "print(df.isnull().sum())"
   ]
  },
  {
   "cell_type": "markdown",
   "metadata": {},
   "source": [
    "# 4. Distributions & Visualizations"
   ]
  },
  {
   "cell_type": "code",
   "execution_count": 25,
   "metadata": {},
   "outputs": [],
   "source": [
    "plt.style.use('seaborn-v0_8')\n",
    "sns.set_palette('husl')"
   ]
  },
  {
   "cell_type": "markdown",
   "metadata": {},
   "source": [
    "## Perfumes by Year"
   ]
  },
  {
   "cell_type": "code",
   "execution_count": null,
   "metadata": {},
   "outputs": [],
   "source": [
    "plt.figure(figsize=(12,6))\n",
    "df['year'] = pd.to_numeric(df['year'], errors='coerce')\n",
    "perfumes_by_year = df.groupby('year').size()\n",
    "perfumes_by_year.plot(kind='bar', color='skyblue')\n",
    "plt.xlabel('Year')\n",
    "plt.ylabel('Number of Perfumes')\n",
    "plt.title('Number of Perfumes by Year')\n",
    "plt.tight_layout()\n",
    "plt.show()"
   ]
  },
  {
   "cell_type": "markdown",
   "metadata": {},
   "source": [
    "## Perfumes by Gender"
   ]
  },
  {
   "cell_type": "code",
   "execution_count": null,
   "metadata": {},
   "outputs": [],
   "source": [
    "plt.figure(figsize=(6,6))\n",
    "df['gender'].value_counts().plot(kind='pie', autopct='%1.1f%%', colors=['lightcoral', 'lightskyblue', 'lightgreen'])\n",
    "plt.title('Distribution of Perfumes by Gender')\n",
    "plt.ylabel('')\n",
    "plt.tight_layout()\n",
    "plt.show()"
   ]
  },
  {
   "cell_type": "markdown",
   "metadata": {},
   "source": [
    "## Perfumes by Brand (Top 20)\n"
   ]
  },
  {
   "cell_type": "code",
   "execution_count": null,
   "metadata": {},
   "outputs": [],
   "source": [
    "plt.figure(figsize=(14,6))\n",
    "top_brands = df['brand'].value_counts().head(20)\n",
    "top_brands.plot(kind='bar')\n",
    "plt.title('Top 20 Brands by Number of Perfumes')\n",
    "plt.xlabel('Brand')\n",
    "plt.ylabel('Number of Perfumes')\n",
    "plt.tight_layout()\n",
    "plt.show()"
   ]
  },
  {
   "cell_type": "markdown",
   "metadata": {},
   "source": [
    "## Perfumes by Family\n"
   ]
  },
  {
   "cell_type": "code",
   "execution_count": null,
   "metadata": {},
   "outputs": [],
   "source": [
    "plt.figure(figsize=(12,6))\n",
    "df['family'].value_counts().plot(kind='bar')\n",
    "plt.title('Perfumes by Olfactory Family')\n",
    "plt.xlabel('Family')\n",
    "plt.ylabel('Number of Perfumes')\n",
    "plt.tight_layout()\n",
    "plt.show()"
   ]
  },
  {
   "cell_type": "markdown",
   "metadata": {},
   "source": [
    "## Perfumes by Type\n"
   ]
  },
  {
   "cell_type": "code",
   "execution_count": null,
   "metadata": {},
   "outputs": [],
   "source": [
    "plt.figure(figsize=(12,6))\n",
    "df['type'].value_counts().plot(kind='bar')\n",
    "plt.title('Perfumes by Type')\n",
    "plt.xlabel('Type')\n",
    "plt.ylabel('Number of Perfumes')\n",
    "plt.tight_layout()\n",
    "plt.show()"
   ]
  },
  {
   "cell_type": "markdown",
   "metadata": {},
   "source": [
    "# 5. Olfactory Notes Analysis"
   ]
  },
  {
   "cell_type": "code",
   "execution_count": 31,
   "metadata": {},
   "outputs": [],
   "source": [
    "def split_and_count(column):\n",
    "    all_values = []\n",
    "    for entry in df[column].dropna():\n",
    "        values = [val.strip().lower() for val in entry.split(';') if val.strip()]\n",
    "        all_values.extend(values)\n",
    "    return Counter(all_values)\n",
    "\n",
    "facettes_counts = split_and_count('facettes')\n",
    "notes_tete_counts = split_and_count('notes_tete')\n",
    "notes_coeur_counts = split_and_count('notes_coeur')\n",
    "notes_fond_counts = split_and_count('notes_fond')"
   ]
  },
  {
   "cell_type": "markdown",
   "metadata": {},
   "source": [
    "### Word Clouds\n"
   ]
  },
  {
   "cell_type": "code",
   "execution_count": null,
   "metadata": {},
   "outputs": [],
   "source": [
    "for counts, title in zip(\n",
    "    [facettes_counts, notes_tete_counts, notes_coeur_counts, notes_fond_counts],\n",
    "    ['Facettes', 'Top Notes', 'Heart Notes', 'Base Notes']):\n",
    "    wordcloud = WordCloud(width=800, height=400, background_color='white', colormap='viridis').generate_from_frequencies(counts)\n",
    "    plt.figure(figsize=(10, 5))\n",
    "    plt.imshow(wordcloud, interpolation='bilinear')\n",
    "    plt.axis('off')\n",
    "    plt.title(f'Word Cloud of {title}')\n",
    "    plt.tight_layout()\n",
    "    plt.show()"
   ]
  },
  {
   "cell_type": "markdown",
   "metadata": {},
   "source": [
    "### Bar Plots for Top Notes\n"
   ]
  },
  {
   "cell_type": "code",
   "execution_count": null,
   "metadata": {},
   "outputs": [],
   "source": [
    "for counts, title in zip(\n",
    "    [facettes_counts, notes_tete_counts, notes_coeur_counts, notes_fond_counts],\n",
    "    ['Facettes', 'Top Notes', 'Heart Notes', 'Base Notes']):\n",
    "    plt.figure(figsize=(12,6))\n",
    "    pd.Series(counts).sort_values(ascending=False).head(20).plot(kind='bar')\n",
    "    plt.title(f'Top 20 {title}')\n",
    "    plt.xlabel(title)\n",
    "    plt.ylabel('Count')\n",
    "    plt.tight_layout()\n",
    "    plt.show()"
   ]
  },
  {
   "cell_type": "markdown",
   "metadata": {},
   "source": [
    "# 6. Co-occurrences\n"
   ]
  },
  {
   "cell_type": "code",
   "execution_count": 33,
   "metadata": {},
   "outputs": [],
   "source": [
    "def multi_hot_crosstab(df, row_col, multi_col):\n",
    "    dummies = df[multi_col].str.get_dummies(sep=';')\n",
    "    dummies = dummies.applymap(lambda x: 1 if x > 0 else 0)\n",
    "    dummies.index = df[row_col]\n",
    "    return dummies.groupby(dummies.index).sum()\n",
    "\n",
    "def plot_interactive_heatmap(pivot_df, row_label, col_label, title, colorscale='YlGnBu'):\n",
    "    fig = ff.create_annotated_heatmap(\n",
    "        z=pivot_df.values,\n",
    "        x=list(pivot_df.columns),\n",
    "        y=list(pivot_df.index),\n",
    "        colorscale=colorscale,\n",
    "        showscale=True,\n",
    "        annotation_text=pivot_df.values.astype(str)\n",
    "    )\n",
    "    fig.update_layout(title_text=title, title_font_size=22)\n",
    "    fig.show()"
   ]
  },
  {
   "cell_type": "markdown",
   "metadata": {},
   "source": [
    "### Family vs Facettes\n"
   ]
  },
  {
   "cell_type": "code",
   "execution_count": null,
   "metadata": {},
   "outputs": [],
   "source": [
    "pivot_fam_fac = multi_hot_crosstab(df, 'family', 'facettes')\n",
    "plot_interactive_heatmap(pivot_fam_fac, 'Family', 'Facette', 'Family vs Facettes')"
   ]
  },
  {
   "cell_type": "markdown",
   "metadata": {},
   "source": [
    "\n",
    "### Family vs Top Notes\n"
   ]
  },
  {
   "cell_type": "code",
   "execution_count": null,
   "metadata": {},
   "outputs": [],
   "source": [
    "pivot_fam_note_tete = multi_hot_crosstab(df, 'family', 'notes_tete')\n",
    "plot_interactive_heatmap(pivot_fam_note_tete, 'Family', 'Top Note', 'Family vs Top Notes')"
   ]
  },
  {
   "cell_type": "markdown",
   "metadata": {},
   "source": [
    "### Family vs Heart Notes"
   ]
  },
  {
   "cell_type": "code",
   "execution_count": null,
   "metadata": {},
   "outputs": [],
   "source": [
    "pivot_fam_note_coeur = multi_hot_crosstab(df, 'family', 'notes_coeur')\n",
    "plot_interactive_heatmap(pivot_fam_note_coeur, 'Family', 'Heart Note', 'Family vs Heart Notes')"
   ]
  },
  {
   "cell_type": "markdown",
   "metadata": {},
   "source": [
    "\n",
    "### Family vs Base Notes\n"
   ]
  },
  {
   "cell_type": "code",
   "execution_count": null,
   "metadata": {},
   "outputs": [],
   "source": [
    "pivot_fam_note_fond = multi_hot_crosstab(df, 'family', 'notes_fond')\n",
    "plot_interactive_heatmap(pivot_fam_note_fond, 'Family', 'Base Note', 'Family vs Base Notes')"
   ]
  },
  {
   "cell_type": "code",
   "execution_count": 38,
   "metadata": {},
   "outputs": [],
   "source": [
    "# 7. Stacked Bar Charts: Notes by Gender and Family\n",
    "def get_note_distribution(note_column, group_column):\n",
    "    data = []\n",
    "    groups = df[group_column].dropna().unique()\n",
    "    for group in groups:\n",
    "        group_df = df[df[group_column] == group]\n",
    "        counts = split_and_count(note_column)\n",
    "        top_notes = [k for k, v in counts.most_common(5)]\n",
    "        group_counts = {note: 0 for note in top_notes}\n",
    "        for entry in group_df[note_column].dropna():\n",
    "            notes = [n.strip().lower() for n in entry.split(';')]\n",
    "            for note in notes:\n",
    "                if note in top_notes:\n",
    "                    group_counts[note] += 1\n",
    "        data.append([group_counts[note] for note in top_notes])\n",
    "    return pd.DataFrame(data, index=groups, columns=top_notes)\n"
   ]
  },
  {
   "cell_type": "markdown",
   "metadata": {},
   "source": [
    "### Notes by Gender\n"
   ]
  },
  {
   "cell_type": "code",
   "execution_count": null,
   "metadata": {},
   "outputs": [],
   "source": [
    "notes_tete_gender = get_note_distribution('notes_tete', 'gender')\n",
    "notes_tete_gender.plot(kind='bar', stacked=True, figsize=(12,6))\n",
    "plt.title('Top Notes Distribution by Gender')\n",
    "plt.xlabel('Gender')\n",
    "plt.ylabel('Count')\n",
    "plt.legend(title='Top Notes')\n",
    "plt.tight_layout()\n",
    "plt.show()"
   ]
  },
  {
   "cell_type": "markdown",
   "metadata": {},
   "source": [
    "### Notes by Family"
   ]
  },
  {
   "cell_type": "code",
   "execution_count": null,
   "metadata": {},
   "outputs": [],
   "source": [
    "notes_tete_family = get_note_distribution('notes_tete', 'family')\n",
    "notes_tete_family.plot(kind='bar', stacked=True, figsize=(12,6))\n",
    "plt.title('Top Notes Distribution by Family')\n",
    "plt.xlabel('Olfactory Family')\n",
    "plt.ylabel('Count')\n",
    "plt.legend(title='Top Notes')\n",
    "plt.tight_layout()\n",
    "plt.show()\n"
   ]
  },
  {
   "cell_type": "markdown",
   "metadata": {},
   "source": [
    "# 8. Trends Over Time"
   ]
  },
  {
   "cell_type": "code",
   "execution_count": null,
   "metadata": {},
   "outputs": [],
   "source": [
    "year_type_counts = df.groupby(['year', 'type']).size().unstack().fillna(0)\n",
    "year_family_counts = df.groupby(['year', 'family']).size().unstack().fillna(0)\n",
    "# Limit to 2000-2025 if possible\n",
    "year_type_counts = year_type_counts.loc[year_type_counts.index.notnull()]\n",
    "year_family_counts = year_family_counts.loc[year_family_counts.index.notnull()]\n",
    "\n",
    "plt.figure(figsize=(12, 6))\n",
    "for column in year_type_counts.columns[:5]:\n",
    "    plt.plot(year_type_counts.index, year_type_counts[column], marker='o', label=column)\n",
    "plt.title('Perfume Types Over Time')\n",
    "plt.xlabel('Year')\n",
    "plt.ylabel('Count')\n",
    "plt.legend(title='Type')\n",
    "plt.tight_layout()\n",
    "plt.show()\n"
   ]
  },
  {
   "cell_type": "code",
   "execution_count": null,
   "metadata": {},
   "outputs": [],
   "source": [
    "\n",
    "plt.figure(figsize=(12, 6))\n",
    "for column in year_family_counts.columns[:5]:\n",
    "    plt.plot(year_family_counts.index, year_family_counts[column], marker='o', label=column)\n",
    "plt.title('Perfume Families Over Time')\n",
    "plt.xlabel('Year')\n",
    "plt.ylabel('Count')\n",
    "plt.legend(title='Family')\n",
    "plt.tight_layout()\n",
    "plt.show()\n"
   ]
  },
  {
   "cell_type": "markdown",
   "metadata": {},
   "source": [
    "# 9. Summary & Insights\n"
   ]
  },
  {
   "cell_type": "code",
   "execution_count": null,
   "metadata": {},
   "outputs": [],
   "source": [
    "print('\\n=== Summary & Insights ===')\n",
    "print('Most common olfactory families:', df['family'].value_counts().head(5).to_dict())\n",
    "print('Most common facettes:', dict(facettes_counts.most_common(5)))\n",
    "print('Most common top notes:', dict(notes_tete_counts.most_common(5)))\n",
    "print('Most common heart notes:', dict(notes_coeur_counts.most_common(5)))\n",
    "print('Most common base notes:', dict(notes_fond_counts.most_common(5)))\n",
    "print('Gender distribution:', df['gender'].value_counts().to_dict())\n",
    "print('Brand distribution (top 5):', df['brand'].value_counts().head(5).to_dict())\n",
    "print('Type distribution:', df['type'].value_counts().to_dict())\n",
    "print('Year range:', df['year'].min(), '-', df['year'].max()) "
   ]
  },
  {
   "cell_type": "code",
   "execution_count": null,
   "metadata": {},
   "outputs": [],
   "source": []
  }
 ],
 "metadata": {
  "kernelspec": {
   "display_name": ".venv",
   "language": "python",
   "name": "python3"
  },
  "language_info": {
   "codemirror_mode": {
    "name": "ipython",
    "version": 3
   },
   "file_extension": ".py",
   "mimetype": "text/x-python",
   "name": "python",
   "nbconvert_exporter": "python",
   "pygments_lexer": "ipython3",
   "version": "3.13.3"
  }
 },
 "nbformat": 4,
 "nbformat_minor": 2
}
