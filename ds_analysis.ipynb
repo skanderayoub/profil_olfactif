{
 "cells": [
  {
   "cell_type": "code",
   "execution_count": 1,
   "id": "126169bd",
   "metadata": {},
   "outputs": [],
   "source": [
    "import pandas as pd\n",
    "\n",
    "df = pd.read_csv(\"parfums.csv\")"
   ]
  },
  {
   "cell_type": "code",
   "execution_count": null,
   "id": "ccc4c671",
   "metadata": {},
   "outputs": [],
   "source": [
    "#clean ds\n",
    "def update_type_and_year(row):\n",
    "    if row['type'].startswith('- '):\n",
    "        year = row['type'][2:]\n",
    "        return pd.Series(['Inconnu', year])\n",
    "\n",
    "    else:\n",
    "        type_value = row['type'].rstrip(' -')\n",
    "        return pd.Series([type_value, row.year])\n",
    "# Apply the function to the DataFrame\n",
    "df[['type', 'year']] = df.apply(update_type_and_year, axis=1)\n",
    "df.type.unique()"
   ]
  },
  {
   "cell_type": "code",
   "execution_count": null,
   "id": "2d1bed6d",
   "metadata": {},
   "outputs": [],
   "source": [
    "df.columns"
   ]
  },
  {
   "cell_type": "code",
   "execution_count": null,
   "id": "38d176f4",
   "metadata": {},
   "outputs": [],
   "source": [
    "import matplotlib.pyplot as plt\n",
    "\n",
    "# Group by year and count the number of perfumes\n",
    "perfumes_by_year = df.groupby('year').size()\n",
    "\n",
    "# Create a bar plot\n",
    "perfumes_by_year.plot(kind='bar', color='skyblue')\n",
    "\n",
    "# Add labels and title\n",
    "plt.xlabel('Year')\n",
    "plt.ylabel('Number of Perfumes')\n",
    "plt.title('Number of Perfumes by Year')\n",
    "\n",
    "# Show the plot\n",
    "plt.show()"
   ]
  },
  {
   "cell_type": "code",
   "execution_count": null,
   "id": "b7919c25",
   "metadata": {},
   "outputs": [],
   "source": [
    "# Group by gender and count the number of perfumes\n",
    "perfumes_by_gender = df['gender'].value_counts()\n",
    "\n",
    "# Create a pie chart\n",
    "perfumes_by_gender.plot(kind='pie', autopct='%1.1f%%', colors=['lightcoral', 'lightskyblue', 'lightgreen'])\n",
    "\n",
    "# Add title\n",
    "plt.title('Distribution of Perfumes by Gender')\n",
    "\n",
    "# Show the plot\n",
    "plt.show()"
   ]
  },
  {
   "cell_type": "code",
   "execution_count": null,
   "id": "284c1326",
   "metadata": {},
   "outputs": [],
   "source": [
    "import plotly.express as px\n",
    "\n",
    "# Create a bar plot\n",
    "fig = px.bar(df, x='brand', y='name', title='Number of Perfumes by Brand')\n",
    "\n",
    "# Show the plot\n",
    "fig.show()"
   ]
  },
  {
   "cell_type": "code",
   "execution_count": 7,
   "id": "18c51c1c",
   "metadata": {},
   "outputs": [],
   "source": [
    "# --- Cell 1: Imports and Data Loading ---\n",
    "import pandas as pd\n",
    "import numpy as np\n",
    "import plotly.figure_factory as ff\n",
    "import matplotlib.pyplot as plt\n",
    "import plotly.express as px\n",
    "\n",
    "# Load data\n",
    "df = pd.read_csv('parfums.csv')\n",
    "def clean_type(row):\n",
    "    type_value = str(row['type']).strip()\n",
    "    \n",
    "    # Remove trailing '-'\n",
    "    if type_value.endswith('-'):\n",
    "        type_value = type_value[:-1].strip()\n",
    "    \n",
    "    # If starts with '-', move to year and set type to 'inconnu'\n",
    "    if type_value.startswith('-'):\n",
    "        # Extract the year (assuming it's a 4-digit number)\n",
    "        try:\n",
    "            year = int(type_value[1:].strip())\n",
    "            row['year'] = str(year)\n",
    "            type_value = 'Inconnu'\n",
    "        except ValueError:\n",
    "            # If not a valid year, just set type to 'inconnu'\n",
    "            type_value = 'Inconnu'\n",
    "    \n",
    "    return type_value\n",
    "\n",
    "# Apply the cleaning function to the 'type' column\n",
    "df['type'] = df.apply(clean_type, axis=1)"
   ]
  },
  {
   "cell_type": "code",
   "execution_count": 8,
   "id": "370ac1ec",
   "metadata": {},
   "outputs": [],
   "source": [
    "def multi_hot_crosstab(df, row_col, multi_col):\n",
    "    dummies = df[multi_col].str.get_dummies(sep=';')\n",
    "    dummies = dummies.applymap(lambda x: 1 if x > 0 else 0)\n",
    "    dummies.index = df[row_col]\n",
    "    return dummies.groupby(dummies.index).sum()\n",
    "\n",
    "def describe_heatmap(pivot_df, row_label, col_label, n_most_common=3, n_top_cols=3):\n",
    "    \"\"\"\n",
    "    Prints a markdown-style summary of the most common row-column combinations and top columns overall in a heatmap DataFrame.\n",
    "    Args:\n",
    "        pivot_df: DataFrame (rows x columns) with counts\n",
    "        row_label: str, label for rows (e.g. 'Family')\n",
    "        col_label: str, label for columns (e.g. 'Facette')\n",
    "        n_most_common: int, number of most common combinations to show\n",
    "        n_top_cols: int, number of top columns overall to show\n",
    "    \"\"\"\n",
    "    flat = [\n",
    "        (pivot_df.index[i], pivot_df.columns[j], pivot_df.values[i, j])\n",
    "        for i in range(pivot_df.shape[0])\n",
    "        for j in range(pivot_df.shape[1])\n",
    "        if pivot_df.values[i, j] > 0\n",
    "    ]\n",
    "    flat_sorted = sorted(flat, key=lambda x: (-x[2], str(x[0]), str(x[1])))\n",
    "    most_common = flat_sorted[:n_most_common]\n",
    "    print(f\"#### Analysis: {row_label} vs {col_label}\")\n",
    "    print(f\"The {n_most_common} most frequent {row_label.lower()}–{col_label.lower()} combinations:\")\n",
    "    for fam, fac, count in most_common:\n",
    "        print(f\"- {row_label}: {fam}, {col_label}: {fac} (Count: {count})\")\n",
    "    top_cols = pivot_df.sum(axis=0).sort_values(ascending=False).head(n_top_cols)\n",
    "    print(f\"Top {n_top_cols} {col_label.lower()}s across all {row_label.lower()}s: {', '.join(top_cols.index)}\")"
   ]
  },
  {
   "cell_type": "code",
   "execution_count": 9,
   "id": "b49c49e6",
   "metadata": {},
   "outputs": [],
   "source": [
    "\n",
    "gender_map = {'Homme': 'Homme', 'Femme': 'Femme', 'Mixte': 'Mixte'}\n",
    "df_all = df.copy()\n",
    "df_homme = df[df['gender'] == 'Homme']\n",
    "df_femme = df[df['gender'] == 'Femme']\n",
    "df_mixte = df[df['gender'] == 'Mixte']\n",
    "gender_dfs = [\n",
    "    ('All', df_all),\n",
    "    ('Homme', df_homme),\n",
    "    ('Femme', df_femme),\n",
    "    ('Mixte', df_mixte)\n",
    "]"
   ]
  },
  {
   "cell_type": "code",
   "execution_count": 10,
   "id": "8d9d4ef2",
   "metadata": {},
   "outputs": [],
   "source": [
    "def plot_interactive_heatmap(pivot_df, row_label, col_label, title, colorscale='YlGnBu'):\n",
    "    fig = ff.create_annotated_heatmap(\n",
    "        z=pivot_df.values,\n",
    "        x=list(pivot_df.columns),\n",
    "        y=list(pivot_df.index),\n",
    "        colorscale=colorscale,\n",
    "        showscale=True,\n",
    "        annotation_text=pivot_df.values.astype(str)\n",
    "    )\n",
    "    fig.update_layout(title_text=title, title_font_size=22)\n",
    "    fig.show()\n",
    "\n",
    "\n",
    "named_colorscales = px.colors.named_colorscales()"
   ]
  },
  {
   "cell_type": "code",
   "execution_count": 11,
   "id": "e793386f",
   "metadata": {},
   "outputs": [],
   "source": [
    "def plot_ds_analysis(gender_name, gender_df):\n",
    "    colorscale = np.random.choice(named_colorscales)\n",
    "    print(f\"\\n### Family vs Facettes (Interactive Heatmap) with colorscale: {colorscale}\")\n",
    "    pivot_fam_fac = multi_hot_crosstab(gender_df, 'family', 'facettes')\n",
    "    plot_interactive_heatmap(pivot_fam_fac, 'Family', 'Facette', f'{gender_name}: Family vs Facettes', colorscale=colorscale)\n",
    "    describe_heatmap(pivot_fam_fac, 'Family', 'Facette', n_most_common=3, n_top_cols=3)\n",
    "    # Family vs Top Notes\n",
    "    print(f\"\\n### Family vs Top Notes (Interactive Heatmap)\")\n",
    "    pivot_fam_note_tete = multi_hot_crosstab(gender_df, 'family', 'notes_tete')\n",
    "    plot_interactive_heatmap(pivot_fam_note_tete, 'Family', 'Top Note', f'{gender_name}: Family vs Top Notes', colorscale=colorscale)\n",
    "    describe_heatmap(pivot_fam_note_tete, 'Family', 'Top Note', n_most_common=3, n_top_cols=3)\n",
    "    # Family vs Heart Notes\n",
    "    print(f\"\\n### Family vs Heart Notes (Interactive Heatmap)\")\n",
    "    pivot_fam_note_coeur = multi_hot_crosstab(gender_df, 'family', 'notes_coeur')\n",
    "    plot_interactive_heatmap(pivot_fam_note_coeur, 'Family', 'Heart Note', f'{gender_name}: Family vs Heart Notes', colorscale=colorscale)\n",
    "    describe_heatmap(pivot_fam_note_coeur, 'Family', 'Heart Note', n_most_common=3, n_top_cols=3)\n",
    "    # Family vs Base Notes\n",
    "    print(f\"\\n### Family vs Base Notes (Interactive Heatmap)\")\n",
    "    pivot_fam_note_fond = multi_hot_crosstab(gender_df, 'family', 'notes_fond')\n",
    "    plot_interactive_heatmap(pivot_fam_note_fond, 'Family', 'Base Note', f'{gender_name}: Family vs Base Notes', colorscale)\n",
    "    describe_heatmap(pivot_fam_note_fond, 'Family', 'Base Note', n_most_common=3, n_top_cols=3)"
   ]
  },
  {
   "cell_type": "code",
   "execution_count": null,
   "id": "553ad6cd",
   "metadata": {},
   "outputs": [],
   "source": [
    "plot_ds_analysis('All', df_all)"
   ]
  },
  {
   "cell_type": "code",
   "execution_count": null,
   "id": "2d6a8626",
   "metadata": {},
   "outputs": [],
   "source": [
    "plot_ds_analysis('Hommes', df_homme)"
   ]
  },
  {
   "cell_type": "code",
   "execution_count": null,
   "id": "03d1b5d6",
   "metadata": {},
   "outputs": [],
   "source": [
    "plot_ds_analysis('Femmes', df_femme)"
   ]
  },
  {
   "cell_type": "code",
   "execution_count": null,
   "id": "aabab4f1",
   "metadata": {},
   "outputs": [],
   "source": [
    "plot_ds_analysis('Mixte', df_mixte)"
   ]
  },
  {
   "cell_type": "code",
   "execution_count": null,
   "id": "9e8c987d",
   "metadata": {},
   "outputs": [],
   "source": []
  }
 ],
 "metadata": {
  "kernelspec": {
   "display_name": ".venv",
   "language": "python",
   "name": "python3"
  },
  "language_info": {
   "codemirror_mode": {
    "name": "ipython",
    "version": 3
   },
   "file_extension": ".py",
   "mimetype": "text/x-python",
   "name": "python",
   "nbconvert_exporter": "python",
   "pygments_lexer": "ipython3",
   "version": "3.13.3"
  }
 },
 "nbformat": 4,
 "nbformat_minor": 5
}
